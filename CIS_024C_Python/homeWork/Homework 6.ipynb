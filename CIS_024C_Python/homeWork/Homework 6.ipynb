{
 "cells": [
  {
   "cell_type": "code",
   "execution_count": 5,
   "metadata": {},
   "outputs": [
    {
     "name": "stdout",
     "output_type": "stream",
     "text": [
      "A function in python is essentially a block of reusable code.\n",
      "It can be executed by invoking the function when required\n",
      "A function can accept input parameters and return output parameters\n"
     ]
    }
   ],
   "source": [
    "\"\"\"\n",
    "Exercise 1 - Testing your knowledge of functions\n",
    "Answer the below questions\n",
    "What is a function in Python?\n",
    "What are the advantages of using functions?\n",
    "\"\"\"\n",
    "\n",
    "print \"A function in python is essentially a block of reusable code.\"\n",
    "print \"It can be executed by invoking the function when required\"\n",
    "print \"A function can accept input parameters and return output parameters\""
   ]
  },
  {
   "cell_type": "code",
   "execution_count": 46,
   "metadata": {},
   "outputs": [
    {
     "data": {
      "text/plain": [
       "11"
      ]
     },
     "execution_count": 46,
     "metadata": {},
     "output_type": "execute_result"
    }
   ],
   "source": [
    "\"\"\"\n",
    "Exercise 2 - Max of three numbers\n",
    "Write a Python function to find the Max of three numbers.\n",
    "Make sure you invoke this function in your main program and display the result\n",
    "\"\"\"\n",
    "\n",
    "def maxThree(x,y,z):\n",
    "    Max = x\n",
    "    if y > Max:\n",
    "        Max = y    \n",
    "    if z > Max:\n",
    "        Max = z\n",
    "        if y > z:\n",
    "            Max = y\n",
    "    return Max\n",
    "\n",
    "maxThree(11,7,10)"
   ]
  },
  {
   "cell_type": "code",
   "execution_count": 20,
   "metadata": {},
   "outputs": [
    {
     "data": {
      "text/plain": [
       "145"
      ]
     },
     "execution_count": 20,
     "metadata": {},
     "output_type": "execute_result"
    }
   ],
   "source": [
    "\"\"\"\n",
    "Exercise 3 - Finding the sum of numbers in a list\n",
    "Write a Python function to sum all the numbers in a list\n",
    "Make sure you invoke this function in your main program and display the result\n",
    "\"\"\"\n",
    "\n",
    "def findSum(arr):\n",
    "    sum = 0\n",
    "    for i in arr:\n",
    "        sum += i\n",
    "    return sum\n",
    "\n",
    "findSum([1,2,3,4,5,6,7,8,9,100])"
   ]
  },
  {
   "cell_type": "code",
   "execution_count": 29,
   "metadata": {},
   "outputs": [
    {
     "data": {
      "text/plain": [
       "48"
      ]
     },
     "execution_count": 29,
     "metadata": {},
     "output_type": "execute_result"
    }
   ],
   "source": [
    "\"\"\"\n",
    "Exercise 4 - Finding the product of numbers in a list\n",
    "Write a Python function to multiply all the numbers in a list\n",
    "Make sure you invoke this function in your main program and display the result\n",
    "\"\"\"\n",
    "\n",
    "def findProduct(arr):\n",
    "    product = 1\n",
    "    for i in arr:\n",
    "        product *= i\n",
    "    return product\n",
    "\n",
    "findProduct([2,3,2,4])"
   ]
  },
  {
   "cell_type": "code",
   "execution_count": 40,
   "metadata": {},
   "outputs": [
    {
     "data": {
      "text/plain": [
       "'olleH'"
      ]
     },
     "execution_count": 40,
     "metadata": {},
     "output_type": "execute_result"
    }
   ],
   "source": [
    "\"\"\"\n",
    "Exercise 5 - Reversing a String\n",
    "Write a Python function to reverse a string\n",
    "Make sure you invoke this function in your main program and display the result\n",
    "\"\"\"\n",
    "\n",
    "def reverseString(string):\n",
    "    return string[::-1]\n",
    "\n",
    "reverseString(\"Hello\")"
   ]
  },
  {
   "cell_type": "code",
   "execution_count": 81,
   "metadata": {},
   "outputs": [
    {
     "name": "stdout",
     "output_type": "stream",
     "text": [
      "Enter a word: HeLLLo\n"
     ]
    },
    {
     "data": {
      "text/plain": [
       "'The lowerCount is: 2 And the upperCount is: 4'"
      ]
     },
     "execution_count": 81,
     "metadata": {},
     "output_type": "execute_result"
    }
   ],
   "source": [
    "\"\"\"\n",
    "Exercise 6\n",
    "Write a Python function that accepts a string and calculate the number of upper case letters and lower case letters.\n",
    "Make sure you invoke this function in your main program and display the result\n",
    "\"\"\"\n",
    "\n",
    "def numberCases(): \n",
    "    upperCount = 0 \n",
    "    lowerCount = 0\n",
    "    word = str(raw_input('Enter a word: '))\n",
    "    for i in word:\n",
    "        if i.isupper() == True:\n",
    "            upperCount+=1\n",
    "        else:\n",
    "            lowerCount+=1\n",
    "            \n",
    "    return \"The lowerCount is: \" + str(lowerCount) + \" And the upperCount is: \" + str(upperCount)\n",
    "\n",
    "numberCases()\n"
   ]
  },
  {
   "cell_type": "code",
   "execution_count": 75,
   "metadata": {},
   "outputs": [
    {
     "data": {
      "text/plain": [
       "[2, 4, 6, 8, 10, 12]"
      ]
     },
     "execution_count": 75,
     "metadata": {},
     "output_type": "execute_result"
    }
   ],
   "source": [
    "\"\"\"\n",
    "Exercise 7\n",
    "Write a Python function to print the even numbers from a given list..\n",
    "Make sure you invoke this function in your main program and display the result\n",
    "\"\"\"\n",
    "def evenNums(arr):\n",
    "    evenArr = []\n",
    "    for i in arr:\n",
    "        if (i % 2 == 0):\n",
    "            evenArr.append(i)\n",
    "    return evenArr\n",
    "\n",
    "evenNums([1,2,3,4,5,6,7,8,9,10,12])\n",
    "            "
   ]
  },
  {
   "cell_type": "code",
   "execution_count": 91,
   "metadata": {},
   "outputs": [
    {
     "name": "stdout",
     "output_type": "stream",
     "text": [
      "Is racecar a palindrome?  True\n",
      "Is puppy a palindrome?  False\n",
      "Is Ryan a palindrome?  False\n",
      "Is level a palindrome?  True\n"
     ]
    }
   ],
   "source": [
    "\"\"\"\n",
    "Exercise 8\n",
    "Write a Python function that checks whether a passed string is palindrome or not.\n",
    "Make sure you invoke this function in your main program and display the result\n",
    "\"\"\"\n",
    "\n",
    "def isPalindrome(string):\n",
    "    reversed = string[::-1]\n",
    "    if string == reversed:\n",
    "        return True\n",
    "    else:\n",
    "        return False\n",
    "    \n",
    "print \"Is racecar a palindrome? \" , isPalindrome(\"racecar\")\n",
    "print \"Is puppy a palindrome? \" ,isPalindrome(\"Puppy\")\n",
    "print \"Is Ryan a palindrome? \" ,isPalindrome(\"Ryan\") \n",
    "print \"Is level a palindrome? \" ,isPalindrome(\"level\")   "
   ]
  },
  {
   "cell_type": "code",
   "execution_count": null,
   "metadata": {
    "collapsed": true
   },
   "outputs": [],
   "source": [
    "print en"
   ]
  }
 ],
 "metadata": {
  "kernelspec": {
   "display_name": "Python 2",
   "language": "python",
   "name": "python2"
  },
  "language_info": {
   "codemirror_mode": {
    "name": "ipython",
    "version": 2
   },
   "file_extension": ".py",
   "mimetype": "text/x-python",
   "name": "python",
   "nbconvert_exporter": "python",
   "pygments_lexer": "ipython2",
   "version": "2.7.13"
  }
 },
 "nbformat": 4,
 "nbformat_minor": 2
}
