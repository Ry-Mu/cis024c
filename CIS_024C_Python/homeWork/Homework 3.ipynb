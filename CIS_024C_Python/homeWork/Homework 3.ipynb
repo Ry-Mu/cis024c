{
 "cells": [
  {
   "cell_type": "code",
   "execution_count": 20,
   "metadata": {},
   "outputs": [
    {
     "name": "stdout",
     "output_type": "stream",
     "text": [
      "Harry, Enter your age: 31\n",
      "Sally, Enter your age: 31\n",
      "Mary, Enter your age: 31\n",
      "Either Sally or Mary is older than 30\n"
     ]
    }
   ],
   "source": [
    "\"\"\"\n",
    "Exercise 1 - Using logical operators - and, or and not\n",
    "Get the ages of three persons Harry, Sally and Mary from the user. \n",
    "Check the below conditions and display the results\n",
    "If Harry and Sally are both less than 20 years old, \n",
    "display the message saying \"Harry and Sally are less than 20 years old\"\n",
    "\n",
    "If either Sally or Mary is older than 30, \n",
    "then display the message saying \"Either Sally or Mary is older than 30\"\n",
    "Remember that to do this you will need to use different variables to store the respective ages and then evaluate those ages using the if statement and logical operators.\n",
    "\"\"\"\n",
    "\n",
    "Harry = int(raw_input(\"Harry, Enter your age: \"))\n",
    "Sally = int(raw_input(\"Sally, Enter your age: \"))\n",
    "Mary = int(raw_input(\"Mary, Enter your age: \"))\n",
    "\n",
    "if Harry and Sally < 20:\n",
    "    print \"Harry and Sally are less than 20 years old\"\n",
    "elif Sally or Mary > 30:\n",
    "    print \"Either Sally or Mary is older than 30\""
   ]
  },
  {
   "cell_type": "code",
   "execution_count": 23,
   "metadata": {},
   "outputs": [
    {
     "name": "stdout",
     "output_type": "stream",
     "text": [
      "The length of the greeting is:  11\n",
      "Please enter your first name: Ryan\n",
      "The length of  Ryan  is  4\n"
     ]
    }
   ],
   "source": [
    "\"\"\"\n",
    "Exercise 2 - Find the length of a given string\n",
    "Ask the user to enter their first name. \n",
    "Compute the number of characters in the first name and print the result.\n",
    "Note that you will need to use the len function \n",
    "to obtain the number of characters in the string.\n",
    "\"\"\"\n",
    "\n",
    "greeting = \"Hello World\"\n",
    "\n",
    "print \"The length of the greeting is: \", len(greeting)\n",
    "\n",
    "first_name = raw_input(\"Please enter your first name: \")\n",
    "\n",
    "print \"The length of \", first_name, \" is \", len(first_name)"
   ]
  },
  {
   "cell_type": "code",
   "execution_count": 41,
   "metadata": {},
   "outputs": [
    {
     "name": "stdout",
     "output_type": "stream",
     "text": [
      "Please enter your favorite movie: pursuit of happiness\n",
      "Printing your favorite movie in reverse:  ssenippah fo tiusrup\n"
     ]
    }
   ],
   "source": [
    "\"\"\"\n",
    "Exercise 3 - Reversing a String\n",
    "Ask the user to enter the name of their favorite movie. \n",
    "Reverse the name of the movie and print it out.\n",
    "\"\"\"\n",
    "\n",
    "fav_movie = raw_input(\"Please enter your favorite movie: \")\n",
    "print \"Printing your favorite movie in reverse: \", fav_movie[::-1]\n",
    "\n"
   ]
  },
  {
   "cell_type": "code",
   "execution_count": 53,
   "metadata": {},
   "outputs": [
    {
     "name": "stdout",
     "output_type": "stream",
     "text": [
      "Please enter a sentence: Jack and Jill went up the Hill\n",
      "jack and jill went up the hill\n",
      "Enter a search string: ryan\n",
      "Sorry, could not find our searchString: ryan\n"
     ]
    }
   ],
   "source": [
    "\"\"\"\n",
    "Exercise 4 - Converting an input string to lower case and looking for a match\n",
    "Ask the user to enter a line of text and a search string. \n",
    "Convert the line of text that the user entered to lower case. \n",
    "Search the resulting text for the search string. \n",
    "Print \"Search String Found\" if the search string was found, \n",
    "otherwise, print \"Search String not found\"\n",
    "\n",
    "For example, the user could enter \"Jack and Jill went up the Hill\" and the search string \"jill\".\n",
    "You first need to convert the input string to lower case like so \n",
    "- \"jack and jill went up the hill\".\n",
    "Next you will need to look for the search string in the input string. \n",
    "You can use the \"if searchString in text\" form of query to determine if the text contains the search string. \n",
    "See week 3 classowork for an example\n",
    "\"\"\"\n",
    "import string\n",
    "\n",
    "user_sentence = raw_input(\"Please enter a sentence: \")\n",
    "print(user_sentence.lower())\n",
    "searchString = raw_input(\"Enter a search string: \")\n",
    "\n",
    "stringLen = len(user_sentence)\n",
    "searchStringLen = len(searchString)\n",
    "\n",
    "found = False\n",
    "\n",
    "for index in range(0,stringLen-searchStringLen+1):\n",
    "    \n",
    "    \n",
    "    subString = user_sentence[index:index+searchStringLen]\n",
    "    \n",
    "    if searchString == subString:\n",
    "        print \"We have found our searchString:\",searchString\n",
    "        \n",
    "        found = True\n",
    "        break\n",
    "        \n",
    "if found == False:\n",
    "    print \"Sorry, could not find our searchString:\",searchString"
   ]
  },
  {
   "cell_type": "code",
   "execution_count": 62,
   "metadata": {},
   "outputs": [
    {
     "name": "stdout",
     "output_type": "stream",
     "text": [
      "Please enter your grocery list(items separated by a comma): milk,bananas,sugar,eggs,cheese\n",
      "cheese\n"
     ]
    }
   ],
   "source": [
    "\"\"\"\n",
    "Exercise 5 - Parsing a comma separated set of values\n",
    "Ask the user to type in a grocery list. \n",
    "Ensure that each item in the grocery list is separated by a comma. \n",
    "Use the split command to extract each token (item) in the grocery list. \n",
    "Print the last item in the list.\n",
    "\n",
    "For example, if the user enters \"milk,bananas,sugar,eggs,cheese\", \n",
    "you will need to read this into a variable, parse the contents using the split command \n",
    "and print \"cheese\"\n",
    "\"\"\"\n",
    "import string \n",
    "grocery_list = raw_input(\"Please enter your grocery list(items separated by a comma): \")\n",
    "\n",
    "groceries = grocery_list.split(\",\")\n",
    "print(groceries[-1])"
   ]
  },
  {
   "cell_type": "code",
   "execution_count": null,
   "metadata": {
    "collapsed": true
   },
   "outputs": [],
   "source": []
  },
  {
   "cell_type": "code",
   "execution_count": null,
   "metadata": {
    "collapsed": true
   },
   "outputs": [],
   "source": []
  }
 ],
 "metadata": {
  "kernelspec": {
   "display_name": "Python 2",
   "language": "python",
   "name": "python2"
  },
  "language_info": {
   "codemirror_mode": {
    "name": "ipython",
    "version": 2
   },
   "file_extension": ".py",
   "mimetype": "text/x-python",
   "name": "python",
   "nbconvert_exporter": "python",
   "pygments_lexer": "ipython2",
   "version": "2.7.13"
  }
 },
 "nbformat": 4,
 "nbformat_minor": 2
}
