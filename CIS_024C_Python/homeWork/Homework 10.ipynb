{
 "cells": [
  {
   "cell_type": "code",
   "execution_count": 4,
   "metadata": {},
   "outputs": [
    {
     "name": "stdout",
     "output_type": "stream",
     "text": [
      "A few reasons come to mind as to answer why we need classes.\n",
      "One is the ability to group functions (methods) and/or variables that belong together.\n",
      "This is code reusability.\n",
      "Another is that classes promote clean modular code.\n",
      "A class is a user-defined prototype, or blueprint, for an object that defines a set\n",
      "of attributes that characterize any object of the class.\n",
      "******************************************************************************************\n",
      "In OOP, you can restrict access to methods and variables.\n",
      "This can prevent the data from being modified by accident and this is known as encapsulation.\n"
     ]
    }
   ],
   "source": [
    "\"\"\"\n",
    "Exercise 1 - Testing your knowledge of object oriented programming concepts\n",
    "Answer the below questions:\n",
    "\n",
    "-Why do we need classes?\n",
    "\n",
    "-What is encapsulation?\n",
    "\"\"\"\n",
    "\n",
    "print \"A few reasons come to mind as to answer why we need classes.\" \n",
    "print \"One is the ability to group functions (methods) and/or variables that belong together.\" \n",
    "print \"This is code reusability.\"\n",
    "print \"Another is that classes promote clean modular code.\"\n",
    "print \"A class is a user-defined prototype, or blueprint, for an object that defines a set\" \n",
    "print \"of attributes that characterize any object of the class.\"\n",
    "\n",
    "print \"*\"*90\n",
    "\n",
    "print \"In OOP, you can restrict access to methods and variables.\" \n",
    "print \"This can prevent the data from being modified by accident and this is known as encapsulation.\" "
   ]
  },
  {
   "cell_type": "code",
   "execution_count": 32,
   "metadata": {},
   "outputs": [
    {
     "name": "stdout",
     "output_type": "stream",
     "text": [
      "Hi, my name is:  Charlie\n",
      "I am  15  years old.\n",
      "My salary is:  20000\n"
     ]
    }
   ],
   "source": [
    "\"\"\"\n",
    "Exercise 2 - Class creation\n",
    "\n",
    "Create a Python class named Employee with the following attributes and methods:\n",
    "\n",
    "Data members\n",
    "\n",
    "1. employeeName  - type string\n",
    "2. employeeAge  - type int\n",
    "3. employeeSalary - type float\n",
    "\n",
    "Methods:\n",
    "\n",
    "1. getEmployee - returns employee name\n",
    "2. getEmployeeAge - gets the employee age\n",
    "3. getEmployeeSalary - returns the employee salary\n",
    "4. __init__ - initialize method accepts the name, age and salary of the employee\n",
    "\n",
    "Create an object of type Employee and initialize with arbitrary values. \n",
    "Invoke the get methods and display the result.\n",
    "\"\"\"\n",
    "\n",
    "class Employee(object):\n",
    "    \n",
    "    def __init__(self, name, age, salary):\n",
    "        \n",
    "        self.employeeName = name\n",
    "        self.employeeAge = age\n",
    "        self.employeeSalary = salary\n",
    "        \n",
    "    \n",
    "    #Getter Methods\n",
    "    def getEmployeeName(self):\n",
    "        return self.employeeName\n",
    "    \n",
    "    def getEmployeeAge(self):\n",
    "        return self.employeeAge\n",
    "    \n",
    "    def getEmployeeSalary(self):\n",
    "        return self.employeeSalary\n",
    "    \n",
    "Charlie = Employee(\"Charlie\", 15, 20000)\n",
    "\n",
    "print \"Hi, my name is: \", Charlie.getEmployeeName()\n",
    "\n",
    "print \"I am \", Charlie.getEmployeeAge(), \" years old.\"\n",
    "        \n",
    "print \"My salary is: \" , Charlie.getEmployeeSalary()\n",
    "\n",
    "        \n"
   ]
  },
  {
   "cell_type": "code",
   "execution_count": 41,
   "metadata": {},
   "outputs": [
    {
     "name": "stdout",
     "output_type": "stream",
     "text": [
      "Accessing via getter method:  Bernie\n",
      "Accessing via direct access: "
     ]
    },
    {
     "ename": "AttributeError",
     "evalue": "'Employee' object has no attribute '_Employee___employeeName'",
     "output_type": "error",
     "traceback": [
      "\u001b[0;31m---------------------------------------------------------------------------\u001b[0m",
      "\u001b[0;31mAttributeError\u001b[0m                            Traceback (most recent call last)",
      "\u001b[0;32m<ipython-input-41-60038cd4fcfc>\u001b[0m in \u001b[0;36m<module>\u001b[0;34m()\u001b[0m\n\u001b[1;32m      5\u001b[0m \"\"\"\n\u001b[1;32m      6\u001b[0m \u001b[0;34m\u001b[0m\u001b[0m\n\u001b[0;32m----> 7\u001b[0;31m \u001b[0;32mclass\u001b[0m \u001b[0mEmployee\u001b[0m\u001b[0;34m(\u001b[0m\u001b[0mobject\u001b[0m\u001b[0;34m)\u001b[0m\u001b[0;34m:\u001b[0m\u001b[0;34m\u001b[0m\u001b[0m\n\u001b[0m\u001b[1;32m      8\u001b[0m     \u001b[0;32mdef\u001b[0m \u001b[0m__init__\u001b[0m\u001b[0;34m(\u001b[0m\u001b[0mself\u001b[0m\u001b[0;34m,\u001b[0m \u001b[0mname\u001b[0m\u001b[0;34m,\u001b[0m \u001b[0mage\u001b[0m\u001b[0;34m,\u001b[0m \u001b[0msalary\u001b[0m\u001b[0;34m)\u001b[0m\u001b[0;34m:\u001b[0m\u001b[0;34m\u001b[0m\u001b[0m\n\u001b[1;32m      9\u001b[0m         \u001b[0mself\u001b[0m\u001b[0;34m.\u001b[0m\u001b[0m__employeeName\u001b[0m \u001b[0;34m=\u001b[0m \u001b[0mname\u001b[0m\u001b[0;34m\u001b[0m\u001b[0m\n",
      "\u001b[0;32m<ipython-input-41-60038cd4fcfc>\u001b[0m in \u001b[0;36mEmployee\u001b[0;34m()\u001b[0m\n\u001b[1;32m     24\u001b[0m \u001b[0;34m\u001b[0m\u001b[0m\n\u001b[1;32m     25\u001b[0m     \u001b[0;32mprint\u001b[0m \u001b[0;34m\"Accessing via getter method: \"\u001b[0m\u001b[0;34m,\u001b[0m\u001b[0mb\u001b[0m\u001b[0;34m.\u001b[0m\u001b[0mgetEmployeeName\u001b[0m\u001b[0;34m(\u001b[0m\u001b[0;34m)\u001b[0m\u001b[0;34m\u001b[0m\u001b[0m\n\u001b[0;32m---> 26\u001b[0;31m     \u001b[0;32mprint\u001b[0m \u001b[0;34m\"Accessing via direct access: \"\u001b[0m\u001b[0;34m,\u001b[0m\u001b[0mb\u001b[0m\u001b[0;34m.\u001b[0m\u001b[0m___employeeName\u001b[0m \u001b[0;31m#This causes an error since\u001b[0m\u001b[0;34m\u001b[0m\u001b[0m\n\u001b[0m\u001b[1;32m     27\u001b[0m     \u001b[0;31m#__employeeName is private\u001b[0m\u001b[0;34m\u001b[0m\u001b[0;34m\u001b[0m\u001b[0m\n",
      "\u001b[0;31mAttributeError\u001b[0m: 'Employee' object has no attribute '_Employee___employeeName'"
     ]
    }
   ],
   "source": [
    "\"\"\"\n",
    "Exercise 3 - Private members\n",
    "In the above Employee class make the employeeName, employeeAge and employeeSalary\n",
    "private so that their access is restricted to only within the class.\n",
    "\"\"\"\n",
    "\n",
    "class Employee(object):\n",
    "    def __init__(self, name, age, salary):\n",
    "        self.__employeeName = name\n",
    "        self.__employeeAge = age\n",
    "        self.__employeeSalary = salary\n",
    "        \n",
    "    #Getter Methods\n",
    "    def getEmployeeName(self):\n",
    "        return self.__employeeName\n",
    "    \n",
    "    def getEmployeeAge(self):\n",
    "        return self.__employeeAge\n",
    "    \n",
    "    def getEmployeeSalary(self):\n",
    "        return self.__employeeSalary\n",
    "    \n",
    "    b = Employee(\"Bernie\", 25, 92000 )\n",
    "    \n",
    "    print \"Accessing via getter method: \",b.getEmployeeName()\n",
    "    print \"Accessing via direct access: \",b.___employeeName #This causes an error since\n",
    "    #__employeeName is private"
   ]
  },
  {
   "cell_type": "code",
   "execution_count": null,
   "metadata": {
    "collapsed": true
   },
   "outputs": [],
   "source": [
    "\"\"\"\n",
    "Exercise 4 - Adding setters and working with a list of Employees\n",
    "\n",
    "In the Employee class add the following methods:\n",
    "\n",
    "1. setEmployeeAge - accepts age and sets it in the object\n",
    "2. setEmployeeName - accepts employee name and sets it in the object\n",
    "3. setEmployeeSalary - accepts employee salary and sets it i nthe object\n",
    "\n",
    "Create a list of employees called employeeList. Initialize the list with three objects of type Employee. \n",
    "Initialize the object with the values \"None\" for employeeName, 0 for employeeAge and 0 for employeeSalary.\n",
    "\n",
    "Loop through each employee in the employeeList. \n",
    "Each time, request the user to enter the name, age and salary of a different employee. \n",
    "Use the set methods to set the name, age and salary for each employee in the employeeList.\n",
    "\n",
    "Loop through each employee in the employeeList. Display the name, age and salary of each employee.\n",
    "\"\"\""
   ]
  },
  {
   "cell_type": "code",
   "execution_count": 64,
   "metadata": {
    "collapsed": true
   },
   "outputs": [],
   "source": [
    "class Employee(object):\n",
    "    def __init__(self, name, age, salary):\n",
    "        self.__employeeName = name\n",
    "        self.__employeeAge = age\n",
    "        self.__employeeSalary = salary\n",
    "        \n",
    "    #Getter Methods\n",
    "    def getEmployeeName(self):\n",
    "        return self.__employeeName\n",
    "    \n",
    "    def getEmployeeAge(self):\n",
    "        return self.__employeeAge \n",
    "    \n",
    "    def getEmployeeSalary(self):\n",
    "        return self.__employeeSalary\n",
    "    \n",
    "    #Setter Methods\n",
    "    \n",
    "    def setEmployeeName(self, newName):\n",
    "        self.__employeeName = newName\n",
    "    \n",
    "    def setEmployeeAge(self, age):\n",
    "        self.__employeeAge = age\n",
    "    \n",
    "    def setEmployeeSalary(self, salary):\n",
    "        self.__employeeSalary = salary\n",
    "    \n",
    "    ## toString method\n",
    "    \n",
    "    def __str__(self):\n",
    "        output = \"\"\n",
    "        output += \"[Employee Information] \"\n",
    "        output += \"name: \" + self.__employeeName\n",
    "        output += \", age: \" + str(self.__employeeAge)\n",
    "        output += \", salary: \" + str(self.__employeeSalary)\n",
    "        \n",
    "        return output"
   ]
  },
  {
   "cell_type": "code",
   "execution_count": 65,
   "metadata": {},
   "outputs": [
    {
     "name": "stdout",
     "output_type": "stream",
     "text": [
      "set name: Ryan\n",
      "set age: 25\n",
      "set salary: 75000\n",
      "set name: Kelsey\n",
      "set age: 24\n",
      "set salary: 75000\n",
      "set name: Charlie Foo\n",
      "set age: 2\n",
      "set salary: 20000\n",
      "[Employee Information] name: Ryan, age: 25, salary: 75000\n",
      "[Employee Information] name: Kelsey, age: 24, salary: 75000\n",
      "[Employee Information] name: Charlie Foo, age: 2, salary: 20000\n"
     ]
    }
   ],
   "source": [
    "# Instantiating a few employee objects for the employeeList\n",
    "empA = Employee(\"None\", 0, 0)\n",
    "empB = Employee(\"None\", 0, 0)\n",
    "empC = Employee(\"None\", 0, 0)\n",
    "\n",
    "# Create a list of employees called employeeList\n",
    "# declaring and initializing list with class objects of type Employee\n",
    "employeeList = [empA, empB, empC]\n",
    "\n",
    "# Loop through each employee in EmployeeList and have user set the information.\n",
    "for i in range(len(employeeList)):\n",
    "    \n",
    "    name = raw_input(\"set name: \")\n",
    "    employeeList[i].setEmployeeName(name)\n",
    "    \n",
    "    age = raw_input(\"set age: \")\n",
    "    employeeList[i].setEmployeeAge(age)\n",
    "    \n",
    "    salary = raw_input(\"set salary: \")\n",
    "    employeeList[i].setEmployeeSalary(salary)\n",
    "    \n",
    "# for-loop to print out objects in employeeList\n",
    "for i in range(len(employeeList)):    \n",
    "    print employeeList[i]"
   ]
  },
  {
   "cell_type": "code",
   "execution_count": 56,
   "metadata": {
    "collapsed": true
   },
   "outputs": [],
   "source": [
    "# Calculator-class\n",
    "class Calculator(object):\n",
    "    \n",
    "    def __init__(self, num1, num2):\n",
    "        self.num1 = num1\n",
    "        self.num2 = num2\n",
    "        \n",
    "    def add(self):\n",
    "        return self.num1 + self.num2\n",
    "    \n",
    "    def subtract(self):\n",
    "        return self.num1 - self.num2\n",
    "    \n",
    "    def multiply(self):\n",
    "        return self.num1 * self.num2\n",
    "    \n",
    "    def divide(self):\n",
    "        return self.num1 / self.num2"
   ]
  },
  {
   "cell_type": "code",
   "execution_count": 59,
   "metadata": {},
   "outputs": [
    {
     "name": "stdout",
     "output_type": "stream",
     "text": [
      "Addition: 10.5\n",
      "Subtraction: 3.5\n",
      "Multiply: 24.5\n",
      "Divide: 2.0\n"
     ]
    }
   ],
   "source": [
    "c = Calculator(7.0, 3.5)\n",
    "print \"Addition:\", c.add()\n",
    "print \"Subtraction:\", c.subtract()\n",
    "print \"Multiply:\", c.multiply()\n",
    "print \"Divide:\", c.divide()"
   ]
  }
 ],
 "metadata": {
  "kernelspec": {
   "display_name": "Python 2",
   "language": "python",
   "name": "python2"
  },
  "language_info": {
   "codemirror_mode": {
    "name": "ipython",
    "version": 2
   },
   "file_extension": ".py",
   "mimetype": "text/x-python",
   "name": "python",
   "nbconvert_exporter": "python",
   "pygments_lexer": "ipython2",
   "version": "2.7.13"
  }
 },
 "nbformat": 4,
 "nbformat_minor": 2
}
