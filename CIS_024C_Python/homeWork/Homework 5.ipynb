{
 "cells": [
  {
   "cell_type": "code",
   "execution_count": 285,
   "metadata": {},
   "outputs": [
    {
     "name": "stdout",
     "output_type": "stream",
     "text": [
      "A file is a type of storage unit and can come in a variety of types (binary, text, etc.)\n",
      "************************************************************\n",
      "It is good practice to close a file after you are done using it.\n",
      "Closing the file is necessary so subsequent accesses will NOT miss the updates\n",
      "(adds, changes, deletes) you've made to it.\n"
     ]
    }
   ],
   "source": [
    "\"\"\"\n",
    "Exercise 1 - Testing your knowledge of files\n",
    "Answer the below questions\n",
    "In your own words, describe what a file is?\n",
    "Why is it important to close a file after we are done using it?\n",
    "\"\"\"\n",
    "\n",
    "print(\"A file is a type of storage unit and can come in a variety of types (binary, text, etc.)\")\n",
    "print \"*\"*60\n",
    "print(\"It is good practice to close a file after you are done using it.\\nClosing the file is necessary so subsequent accesses will NOT miss the updates\\n(adds, changes, deletes) you've made to it.\")"
   ]
  },
  {
   "cell_type": "code",
   "execution_count": 119,
   "metadata": {},
   "outputs": [
    {
     "name": "stdout",
     "output_type": "stream",
     "text": [
      "test\n"
     ]
    }
   ],
   "source": [
    "\"\"\"\n",
    "Exercise 2 - Write to a file\n",
    "Write a python program to write the below lines to a file\n",
    "Name, Age, Gender, Profession\n",
    "Harry, 23, Male, Software Engineer\n",
    "Sam, 25, Male, Lawyer\n",
    "Lisa, 29, Female, Computer Scientist\n",
    "Mary, 22, Female, Doctor\n",
    "Below are a set of recommended steps to accomplish this\n",
    "open a file in write mode. This will return a handle to the file\n",
    "use the write method to write each line to the file using the file handle \n",
    "returned in the open call\n",
    "close the file when done\n",
    "\n",
    "\"\"\"\n",
    "writeFile = open(\"exercise5.txt\",\"w\")\n",
    "writeFile.write(\"Name, Age, Gender, Profession\\n\")\n",
    "writeFile.write(\"Harry, 23, Male, Software Engineer\\n\")\n",
    "writeFile.write(\"Sam, 25, Male, Lawyer\\n\")\n",
    "writeFile.write(\"Lisa, 29, Female, Computer Scientist\\n\")\n",
    "writeFile.write(\"Mary, 22,Female, Doctor\\n\")\n",
    "print(\"test\")\n",
    "writeFile.close()\n",
    "\n"
   ]
  },
  {
   "cell_type": "code",
   "execution_count": 162,
   "metadata": {},
   "outputs": [
    {
     "name": "stdout",
     "output_type": "stream",
     "text": [
      "Name, Age, Gender, Profession\n",
      "\n",
      "Harry, 23, Male, Software Engineer\n",
      "\n",
      "Sam, 25, Male, Lawyer\n",
      "\n",
      "Lisa, 29, Female, Computer Scientist\n",
      "\n",
      "Mary, 22,Female, Doctor\n",
      "\n"
     ]
    }
   ],
   "source": [
    "\"\"\"\n",
    "Exercise 3 pt. 1 - Reading from a file\n",
    "Read and display the data from the file you had just written to.\n",
    "Below are a set of recommended steps to accomplish this\n",
    "open the file in read mode. This will return a handle to the file.\n",
    "\n",
    "You can now iterate through each line in the file and then use readline to read each line.\n",
    "Display each line as you read it in\n",
    "\n",
    "\"\"\"\n",
    "\n",
    "readFile = open(\"exercise5.txt\")\n",
    "\n",
    "print readFile.readline()\n",
    "print readFile.readline()\n",
    "print readFile.readline()\n",
    "print readFile.readline()\n",
    "print readFile.readline()\n",
    "\n",
    "readFile.close()\n",
    "\n",
    "\n",
    "\n",
    "\n"
   ]
  },
  {
   "cell_type": "code",
   "execution_count": 163,
   "metadata": {},
   "outputs": [
    {
     "data": {
      "text/plain": [
       "'Name, Age, Gender, Profession\\nHarry, 23, Male, Software Engineer\\nSam, 25, Male, Lawyer\\nLisa, 29, Female, Computer Scientist\\nMary, 22,Female, Doctor\\n'"
      ]
     },
     "execution_count": 163,
     "metadata": {},
     "output_type": "execute_result"
    }
   ],
   "source": [
    "\"\"\"\n",
    "Exercise 3 pt. 2A- Reading from a file using the read method to read in all lines \n",
    "\"\"\"\n",
    "readFile = open(\"exercise5.txt\")\n",
    "readFile.read()\n",
    "readFile.close()\n"
   ]
  },
  {
   "cell_type": "code",
   "execution_count": 164,
   "metadata": {},
   "outputs": [
    {
     "data": {
      "text/plain": [
       "['Name, Age, Gender, Profession\\n',\n",
       " 'Harry, 23, Male, Software Engineer\\n',\n",
       " 'Sam, 25, Male, Lawyer\\n',\n",
       " 'Lisa, 29, Female, Computer Scientist\\n',\n",
       " 'Mary, 22,Female, Doctor\\n']"
      ]
     },
     "execution_count": 164,
     "metadata": {},
     "output_type": "execute_result"
    }
   ],
   "source": [
    "\"\"\"\n",
    "Exercise 3 pt. 2B- Reading from a file using the readlines method \n",
    "to read all lines into a list.\n",
    "\"\"\"\n",
    "readFile = open(\"exercise5.txt\")\n",
    "readFile.readlines()\n",
    "readFile.close()"
   ]
  },
  {
   "cell_type": "code",
   "execution_count": 287,
   "metadata": {},
   "outputs": [
    {
     "name": "stdout",
     "output_type": "stream",
     "text": [
      "The current sum is:  0.0\n",
      "Adding this age to the sum  23\n",
      "************************************************************\n",
      "The current sum is:  23.0\n",
      "Adding this age to the sum  25\n",
      "************************************************************\n",
      "The current sum is:  48.0\n",
      "Adding this age to the sum  29\n",
      "************************************************************\n",
      "The current sum is:  77.0\n",
      "Adding this age to the sum  22\n",
      "************************************************************\n",
      "The sum is  99.0\n",
      "The average is  24.75\n"
     ]
    }
   ],
   "source": [
    "\"\"\"\n",
    "Exercise 4 - Finding the average age of users in a file\n",
    "Write a python program to find the average age of users in the file you just created.\n",
    "Below are a set of recommended steps to accomplish this\n",
    "    1.Open the file in read mode\n",
    "    2.Read in each line of the file\n",
    "    3.Split each line in the file to get the age\n",
    "    4. Find the average age and display it\n",
    "    \n",
    "\"\"\"\n",
    "\n",
    "average = 0\n",
    "sum = 0.0\n",
    "\n",
    "textFile = open(\"exercise5.txt\")\n",
    "textFile.readline()\n",
    "\n",
    "\n",
    "for line in textFile:\n",
    "    #  Split line by commas\n",
    "    textFields = line.split(\",\")\n",
    "    #print line\n",
    "    print \"The current sum is: \", sum\n",
    "    print \"Adding this age to the sum \" ,int(textFields[1])\n",
    "    print \"*\"*60\n",
    "    sum += int(textFields[1])\n",
    "    average += 1\n",
    "    \n",
    "    \n",
    "print \"The sum is \" , sum\n",
    "\n",
    "\n",
    "print \"The average is \" , (sum/average)\n",
    "\n",
    "\n",
    "\n",
    "\n",
    "\n"
   ]
  },
  {
   "cell_type": "code",
   "execution_count": 337,
   "metadata": {},
   "outputs": [
    {
     "name": "stdout",
     "output_type": "stream",
     "text": [
      "Enter your name: Tommy\n",
      "Enter your age: 25\n",
      "Enter your gender: Male\n",
      "Enter your profession: salesman\n",
      "test\n"
     ]
    }
   ],
   "source": [
    "import string\n",
    "\"\"\"\n",
    "Exercise 5 - Appending to a file\n",
    "Write a python program to append information provided by users to an existing file.\n",
    "You will need to:\n",
    "-ask the user to enter their name, age, gender and profession using the raw_input method \n",
    "open the file you just created in the above exercies in append mode \n",
    "and write this information to the file.\n",
    "Remember to make sure that the information you append \n",
    "is entered in the same format where each field is separated by commas.\n",
    "\"\"\"\n",
    "\n",
    "name = (raw_input(\"Enter your name: \"))\n",
    "age = int(raw_input(\"Enter your age: \"))\n",
    "gender = (raw_input(\"Enter your gender: \"))\n",
    "profession = (raw_input(\"Enter your profession: \"))\n",
    "print(\"test\")\n",
    "appendFile = open(\"exercise5.txt\",'a+')\n",
    "appendFile.write(name + \" , \" + str(age) + \" , \" + gender + \" , \" + profession + '\\n')\n",
    "appendFile.close()\n"
   ]
  },
  {
   "cell_type": "code",
   "execution_count": 338,
   "metadata": {},
   "outputs": [
    {
     "data": {
      "text/plain": [
       "['Name, Age, Gender, Profession\\n',\n",
       " 'Harry, 23, Male, Software Engineer\\n',\n",
       " 'Sam, 25, Male, Lawyer\\n',\n",
       " 'Lisa, 29, Female, Computer Scientist\\n',\n",
       " 'Mary, 22,Female, Doctor\\n',\n",
       " 'Tommy , 25 , Male , salesman\\n']"
      ]
     },
     "execution_count": 338,
     "metadata": {},
     "output_type": "execute_result"
    }
   ],
   "source": [
    "readFile = open(\"exercise5.txt\")\n",
    "readFile.readlines()\n",
    "#readFile.close()"
   ]
  },
  {
   "cell_type": "code",
   "execution_count": 339,
   "metadata": {
    "collapsed": true
   },
   "outputs": [],
   "source": [
    "readFile.close()"
   ]
  },
  {
   "cell_type": "code",
   "execution_count": null,
   "metadata": {
    "collapsed": true
   },
   "outputs": [],
   "source": []
  }
 ],
 "metadata": {
  "kernelspec": {
   "display_name": "Python 2",
   "language": "python",
   "name": "python2"
  },
  "language_info": {
   "codemirror_mode": {
    "name": "ipython",
    "version": 2
   },
   "file_extension": ".py",
   "mimetype": "text/x-python",
   "name": "python",
   "nbconvert_exporter": "python",
   "pygments_lexer": "ipython2",
   "version": "2.7.13"
  }
 },
 "nbformat": 4,
 "nbformat_minor": 2
}
