{
 "cells": [
  {
   "cell_type": "code",
   "execution_count": 10,
   "metadata": {},
   "outputs": [
    {
     "name": "stdout",
     "output_type": "stream",
     "text": [
      "1. The difference between a Syntax Error and a Runtime Error are:\n",
      "Syntax Errors are normally detected by the program before it is executed.\n",
      "While runtime errors and semantic errors are not detected before execution and\n",
      "are typically encountered during program execution\n",
      "**********************************************************************\n",
      "2. Exceptions are Runtime errors\n",
      "**********************************************************************\n",
      "3. Exceptions are a way to gracefully detect and handle Runtime errors\n",
      "**********************************************************************\n",
      "4. When the user tries to use a variable that has not been defined, that is a NameError.\n"
     ]
    }
   ],
   "source": [
    "\"\"\"\n",
    "Exercise 1 - Testing your knowledge of Exceptions\n",
    "Answer the below questions:\n",
    "1.What is the difference between a Syntax Error and a Runtime Error?\n",
    "2.Are exceptions Syntax Errors or Runtime Errors?\n",
    "3.How do exceptions help a programmer?\n",
    "4.Which exception is raised when the user tries to use a variable that has not been defined?\n",
    "\"\"\"\n",
    "\n",
    "print \"1. The difference between a Syntax Error and a Runtime Error are:\"  \n",
    "print \"Syntax Errors are normally detected by the program before it is executed.\"\n",
    "print \"While runtime errors and semantic errors are not detected before execution and\" \n",
    "print \"are typically encountered during program execution\"\n",
    "print 70 * \"*\"\n",
    "print \"2. Exceptions are Runtime errors\"\n",
    "print 70 * \"*\"\n",
    "print \"3. Exceptions are a way to gracefully detect and handle Runtime errors\"\n",
    "print 70 * \"*\"\n",
    "print \"4. When the user tries to use a variable that has not been defined, that is a NameError.\"\n"
   ]
  },
  {
   "cell_type": "code",
   "execution_count": 59,
   "metadata": {},
   "outputs": [
    {
     "name": "stdout",
     "output_type": "stream",
     "text": [
      "2A - ValueError\n",
      "**********************************************************************\n",
      "ValueError encountered:  invalid literal for int() with base 10: 's'\n"
     ]
    }
   ],
   "source": [
    "\"\"\"\n",
    "2. Write python programs that raise the following exceptions:\n",
    "A. ValueError\n",
    "B. TypeError\n",
    "C. IndexError\n",
    "D. KeyError\n",
    "\"\"\"\n",
    "\n",
    "print \"2A - ValueError\"\n",
    "print 70 * \"*\"\n",
    "\n",
    "value = 0\n",
    "try:\n",
    "    value += int(\"s\")\n",
    "except ValueError as err:\n",
    "    print \"ValueError encountered: \", err\n",
    "\n",
    "    \n"
   ]
  },
  {
   "cell_type": "code",
   "execution_count": 61,
   "metadata": {},
   "outputs": [
    {
     "name": "stdout",
     "output_type": "stream",
     "text": [
      "2B - TypeError\n",
      "**********************************************************************\n",
      "TypeError encountered:  cannot concatenate 'str' and 'int' objects\n"
     ]
    }
   ],
   "source": [
    "print \"2B - TypeError\"\n",
    "print 70 * \"*\"\n",
    "\n",
    "Name = \"Ryan\"\n",
    "Age = 25\n",
    "try:\n",
    "    Name + Age\n",
    "except TypeError as err:\n",
    "    print \"TypeError encountered: \", err\n"
   ]
  },
  {
   "cell_type": "code",
   "execution_count": 37,
   "metadata": {},
   "outputs": [
    {
     "name": "stdout",
     "output_type": "stream",
     "text": [
      "2C - IndexError\n",
      "**********************************************************************\n",
      "IndexError encountered:  list index out of range\n"
     ]
    }
   ],
   "source": [
    "print \"2C - IndexError\"\n",
    "print 70 * \"*\"\n",
    "\n",
    "array = [0,1,2,3,4,5]\n",
    "try:\n",
    "    print array[7]\n",
    "except IndexError as err:\n",
    "    print \"IndexError encountered: \", err"
   ]
  },
  {
   "cell_type": "code",
   "execution_count": 48,
   "metadata": {},
   "outputs": [
    {
     "name": "stdout",
     "output_type": "stream",
     "text": [
      "2D - KeyError\n",
      "**********************************************************************\n",
      "TypeError encountered:  'Sanjay'\n"
     ]
    }
   ],
   "source": [
    "print \"2D - KeyError\"\n",
    "print 70 * \"*\"\n",
    "\n",
    "dict = {\"Ryan\":25, \"Charlie\":1, \"Kelsey\": 24}\n",
    "try:\n",
    "    print dict[\"Sanjay\"]\n",
    "except KeyError as err:\n",
    "    print \"TypeError encountered: \", err"
   ]
  },
  {
   "cell_type": "code",
   "execution_count": 70,
   "metadata": {},
   "outputs": [
    {
     "name": "stdout",
     "output_type": "stream",
     "text": [
      "Please enter your GPA (0-4):y\n",
      "ValueError occurred. Please Try again:  invalid literal for int() with base 10: 'y'\n"
     ]
    }
   ],
   "source": [
    "\"\"\"\n",
    "Exercise 3 - Handling Exceptions\n",
    "Write a Python program that asks the user to enter a GPA (integer values - 0,1,2,3 or 4). \n",
    "Convert the input from the user into an integer. \n",
    "\n",
    "Write an exception handler to handle the ValueError exception and \n",
    "display the message \"ValueError occurred. Please try again\". \n",
    "\n",
    "If the value entered by the user is not compatible with integer values the program \n",
    "will raise a ValueError exception and display the message from within the exception handler.\n",
    "\"\"\"\n",
    "try:\n",
    "    gpa = int(raw_input(\"Please enter your GPA (0-4):\"))\n",
    "except ValueError as err:\n",
    "    print \"ValueError occurred. Please Try again: \", err\n"
   ]
  },
  {
   "cell_type": "code",
   "execution_count": 54,
   "metadata": {},
   "outputs": [
    {
     "name": "stdout",
     "output_type": "stream",
     "text": [
      "Exception Occurred:  list index out of range\n"
     ]
    }
   ],
   "source": [
    "\"\"\"\n",
    "Exercise 4 - Displaying the error description in an Exception\n",
    "Create a list of 5 items in a grocery cart. \n",
    "For example, your list can be something like the below\n",
    "Example of a list with 2 items: groceryList = [\"suger\",\"rice\"]\n",
    "\n",
    "Write an exception handler to handle an IndexError exception and \n",
    "store the details of the exception in a variable called details. \n",
    "\n",
    "If the exception occurs, print out a message saying \"Exception Occurred\" \n",
    "along with the details (from details variable).\n",
    "\n",
    "In your program attempt to access the 6th item in the list.\n",
    "Since there are only 5 elements, the exception handler should \n",
    "be triggered and the message printed inside the exception should be printed.\n",
    "\"\"\"\n",
    "groceryList = [\"apple\", \"banana\", \"cofee\", \"creamer\", \"milk\"]\n",
    "\n",
    "try:\n",
    "    print groceryList[5]\n",
    "except IndexError as details:\n",
    "    print \"Exception Occurred: \", details"
   ]
  },
  {
   "cell_type": "code",
   "execution_count": 81,
   "metadata": {},
   "outputs": [
    {
     "name": "stdout",
     "output_type": "stream",
     "text": [
      "Please enter your GPA (0-4):r\n",
      "ValueError occurred. Please Try again:  invalid literal for int() with base 10: 'r'\n",
      "Please enter your GPA (0-4):y\n",
      "ValueError occurred. Please Try again:  invalid literal for int() with base 10: 'y'\n",
      "Please enter your GPA (0-4):A\n",
      "ValueError occurred. Please Try again:  invalid literal for int() with base 10: 'A'\n",
      "Please enter your GPA (0-4):10.7\n",
      "ValueError occurred. Please Try again:  invalid literal for int() with base 10: '10.7'\n",
      "Please enter your GPA (0-4):4\n",
      "**********************************************************************\n",
      "Thanks. Your GPA is:  4\n"
     ]
    }
   ],
   "source": [
    "\"\"\"\n",
    "Exercise 5 - Using loops to wait for a user to enter a valid value\n",
    "This is a partial repeat of problem 1. You should be able to reuse that code\n",
    "Write a Python program that asks the user to enter a GPA (integer values - 0,1,2,3 or 4).\n",
    "\n",
    "Convert the input from the user into an integer. \n",
    "Write an exception handler to handle the ValueError exception \n",
    "and display the message \"ValueError occurred. Please try again\".\n",
    "\n",
    "If the value entered by the user is not compatible with integer \n",
    "values the program will raise a ValueError exception and \n",
    "display the message from within the exception handler.\n",
    "\n",
    "Place the above code to get user input inside a while loop. \n",
    "As long as the user is entering an invalid numeric value,\n",
    "the program should continue to prompt the user to enter the GPA. \n",
    "\n",
    "When the user enters a correct value, the program should break out \n",
    "of the while loop and print the GPA.\n",
    "\n",
    "Please see classwork for similar examples\n",
    "\"\"\"\n",
    "while True:\n",
    "    try:\n",
    "        gpa = int(raw_input(\"Please enter your GPA (0-4):\"))\n",
    "        break\n",
    "    except ValueError as details:\n",
    "        print \"ValueError occurred. Please Try again: \", details\n",
    "print 70 * \"*\"\n",
    "print \"Thanks. Your GPA is: \", gpa"
   ]
  }
 ],
 "metadata": {
  "kernelspec": {
   "display_name": "Python 2",
   "language": "python",
   "name": "python2"
  },
  "language_info": {
   "codemirror_mode": {
    "name": "ipython",
    "version": 2
   },
   "file_extension": ".py",
   "mimetype": "text/x-python",
   "name": "python",
   "nbconvert_exporter": "python",
   "pygments_lexer": "ipython2",
   "version": "2.7.13"
  }
 },
 "nbformat": 4,
 "nbformat_minor": 2
}
