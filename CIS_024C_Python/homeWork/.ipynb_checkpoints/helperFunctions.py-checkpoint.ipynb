{
 "cells": [
  {
   "cell_type": "code",
   "execution_count": null,
   "metadata": {
    "collapsed": true
   },
   "outputs": [],
   "source": [
    "def add(x,y):\n",
    "    sum = x + y\n",
    "    return sum\n",
    "\n",
    "def diff(x,y):\n",
    "    difference = x - y\n",
    "    return difference\n",
    "\n",
    "def product(x,y):\n",
    "    prod = x * y\n",
    "    return prod\n",
    "\n",
    "def greatest(x,y):\n",
    "    if x > y:\n",
    "        return x\n",
    "    else:\n",
    "        return y"
   ]
  }
 ],
 "metadata": {
  "kernelspec": {
   "display_name": "Python 2",
   "language": "python",
   "name": "python2"
  },
  "language_info": {
   "codemirror_mode": {
    "name": "ipython",
    "version": 2
   },
   "file_extension": ".py",
   "mimetype": "text/x-python",
   "name": "python",
   "nbconvert_exporter": "python",
   "pygments_lexer": "ipython2",
   "version": "2.7.13"
  }
 },
 "nbformat": 4,
 "nbformat_minor": 2
}
