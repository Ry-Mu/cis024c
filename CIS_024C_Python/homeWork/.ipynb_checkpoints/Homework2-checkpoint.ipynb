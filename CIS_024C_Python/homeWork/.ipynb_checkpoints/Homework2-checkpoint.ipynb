{
 "cells": [
  {
   "cell_type": "code",
   "execution_count": 16,
   "metadata": {},
   "outputs": [
    {
     "name": "stdout",
     "output_type": "stream",
     "text": [
      "Enter a number between 1-1000: 2\n",
      "Found a number less than 100\n"
     ]
    }
   ],
   "source": [
    "\"\"\"\n",
    "Exercise 1 - if statement\n",
    "Write a python program to accept a number from the user. \n",
    "Use the if statement to check to see if the number is greater than 100. \n",
    "If the number is greater than 100, print the message \"Found a number greater than 100\"\n",
    "\"\"\"\n",
    "userNumber = int(raw_input(\"Enter a number between 1-1000: \"))\n",
    "if userNumber > 100:\n",
    "    print \"Found a number greater than 100\"\n",
    "else:\n",
    "    print \"Found a number less than 100\""
   ]
  },
  {
   "cell_type": "code",
   "execution_count": null,
   "metadata": {},
   "outputs": [],
   "source": [
    "\"\"\"\n",
    "Exercise 2 - if...else statement\n",
    "Write a python program to accept the name of a user. Use the if statement to check to see if the name is \"Joe\". \n",
    "If the name is \"Joe\", print the message \"User Joe was entered\", \n",
    "otherwise if the name is not \"Joe\", print a message saying that \"User Joe was not entered\"\n",
    "\"\"\"\n",
    "\n",
    "userName = raw_input(\"Enter your name: \")\n",
    "if userName == \"Joe\" or userName == \"joe\":\n",
    "    print \"User Joe was entered\"\n",
    "else:\n",
    "    print \"User Joe was not entered\""
   ]
  },
  {
   "cell_type": "code",
   "execution_count": null,
   "metadata": {},
   "outputs": [],
   "source": [
    "\"\"\"\n",
    "Exercise 3 - if..elif...else statement\n",
    "Write a python program to accept the salary of the user.\n",
    "If the salary is less than 70,000, then print the message \"User salary is less than 70000\", \n",
    "otherwise if the salary is less than 100,000, print the message \n",
    "\"User salary is less than 100,000, otherwise, print the message \"User salary is greater than or equal to 100,000\"\n",
    "\"\"\"\n",
    "userSalary = int(raw_input(\"Please enter your salary: \"))\n",
    "if userSalary < 70000:\n",
    "    print \"User salary is less than 70000\"\n",
    "elif userSalary < 100000:\n",
    "    print \"User salary is less than 100,000\"\n",
    "else:\n",
    "    print \"User salary is greater than or equal to 100,000\""
   ]
  },
  {
   "cell_type": "code",
   "execution_count": null,
   "metadata": {
    "collapsed": true
   },
   "outputs": [],
   "source": [
    "\"\"\"\n",
    "Exercise 3 - if..elif...else statement\n",
    "Write a python program to accept the salary of the user.\n",
    "If the salary is less than 70,000, then print the message \"User salary is less than 70000\", \n",
    "otherwise if the salary is less than 100,000, print the message \n",
    "\"User salary is less than 100,000, otherwise, print the message \"User salary is greater than or equal to 100,000\"\n",
    "\"\"\"\n",
    "userSalary = int(raw_input(\"Please enter your salary: \"))\n",
    "if userSalary < 70000:\n",
    "    print \"User salary is less than 70000\"\n",
    "elif userSalary < 100000:\n",
    "    print \"User salary is less than 100,000\"\n",
    "else:\n",
    "    print \"User salary is greater than or equal to 100,000\""
   ]
  }
 ],
 "metadata": {
  "kernelspec": {
   "display_name": "Python 2",
   "language": "python",
   "name": "python2"
  },
  "language_info": {
   "codemirror_mode": {
    "name": "ipython",
    "version": 2
   },
   "file_extension": ".py",
   "mimetype": "text/x-python",
   "name": "python",
   "nbconvert_exporter": "python",
   "pygments_lexer": "ipython2",
   "version": "2.7.13"
  }
 },
 "nbformat": 4,
 "nbformat_minor": 2
}
