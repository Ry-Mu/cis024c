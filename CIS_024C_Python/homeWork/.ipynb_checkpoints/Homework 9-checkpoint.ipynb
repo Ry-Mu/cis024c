{
 "cells": [
  {
   "cell_type": "code",
   "execution_count": 9,
   "metadata": {},
   "outputs": [
    {
     "name": "stdout",
     "output_type": "stream",
     "text": [
      "1. There are numerous benefits to execiting programs via the command line.\n",
      "Some benefits include: \n",
      "- Allows for independent execution of python code \n",
      "- Allows for external applications and user to pass additional arguments to a python program.\n",
      "- Allows for Python code to be integrated with other applications and workflows. \n",
      "- Allows for output of python code to be captured and processed by external applications.\n",
      "******************************************************************************************\n",
      "2. A python library that you would use in order to pass arguments from the command line is: \n",
      "import sys. Python program can accept input arguments using sys.argv variable.\n"
     ]
    }
   ],
   "source": [
    "\"\"\"\n",
    "Exercise 1 - Testing your knowledge of command line programs\n",
    "\n",
    "Answer the below questions\n",
    "1. What is the benefit of executing a program from the command line as opposed to \n",
    "running it from within an editor like Jupyter or Spyder.\n",
    "2. Name a Python library that you would use in order to pass arguments from the command line\n",
    "\"\"\"\n",
    "\n",
    "print \"1. There are numerous benefits to execiting programs via the command line.\"\n",
    "print \"Some benefits include: \"\n",
    "print \"- Allows for independent execution of python code \\n- Allows for external applications and user to pass additional arguments to a python program.\"\n",
    "print \"- Allows for Python code to be integrated with other applications and workflows. \\n- Allows for output of python code to be captured and processed by external applications.\"\n",
    "print \"*\" * 90\n",
    "print \"2. A python library that you would use in order to pass arguments from the command line is: \\nimport sys. Python program can accept input arguments using sys.argv variable.\""
   ]
  },
  {
   "cell_type": "code",
   "execution_count": 46,
   "metadata": {},
   "outputs": [
    {
     "ename": "SyntaxError",
     "evalue": "invalid syntax (<ipython-input-46-d712c0fe1e65>, line 14)",
     "output_type": "error",
     "traceback": [
      "\u001b[0;36m  File \u001b[0;32m\"<ipython-input-46-d712c0fe1e65>\"\u001b[0;36m, line \u001b[0;32m14\u001b[0m\n\u001b[0;31m    %%writefile main.py\u001b[0m\n\u001b[0m    ^\u001b[0m\n\u001b[0;31mSyntaxError\u001b[0m\u001b[0;31m:\u001b[0m invalid syntax\n"
     ]
    }
   ],
   "source": [
    "\"\"\"\n",
    "Exercise 2 - Creating and executing a command line program\n",
    "\n",
    "Write a Python program that gets two numbers from the user and displays the \n",
    "sum of the two numbers. Make sure to make this program a .py file, \n",
    "something you can run from the command line.\n",
    "\n",
    "Note:\n",
    "\n",
    "You can use the %%writeline magic command in Jupyter to create this file, \n",
    "or you can simply use an external editor to create this file.\n",
    "Please refer to classwork in Github for examples.\n",
    "\"\"\""
   ]
  },
  {
   "cell_type": "code",
   "execution_count": 44,
   "metadata": {},
   "outputs": [
    {
     "name": "stdout",
     "output_type": "stream",
     "text": [
      "Please enter a number: ^C\n",
      "Traceback (most recent call last):\n",
      "  File \"main.py\", line 2, in <module>\n",
      "    n1 = int(raw_input(\"Please enter a number: \"))\n",
      "KeyboardInterrupt\n"
     ]
    }
   ],
   "source": [
    "!python main.py"
   ]
  },
  {
   "cell_type": "code",
   "execution_count": null,
   "metadata": {
    "collapsed": true
   },
   "outputs": [],
   "source": [
    "\"\"\"\n",
    "Exercise 3 - Accepting arguments from the command line\n",
    "\n",
    "Repeat the command line program above, however, this time, instead of accepting the\n",
    "numbers from the user using raw_input, pass in the two numbers as command line arguments.\n",
    "\n",
    "Note You can use sys.argv or argparse, whichever you are more comfortable with.\n",
    "\"\"\""
   ]
  },
  {
   "cell_type": "code",
   "execution_count": null,
   "metadata": {
    "collapsed": true
   },
   "outputs": [],
   "source": [
    "\"\"\"\n",
    "Exercise 4 - Command Line programs with multiple modules\n",
    "\n",
    "This is also an extension to Exercises 2 and 3.\n",
    "\n",
    "Write a Python program to add two numbers. Your Python program must have a function \n",
    "called add that is placed in a separate module called helper.py. \n",
    "Your main program, which is also a standalone Python program main.py must import helper.py \n",
    "and use this module to add the two numbers.\n",
    "\n",
    "The numbers to be added must be passed via the command line.\n",
    "\n",
    "Here is an example of how your program would be invoked assuming the numbers to be added are 3 and 2\n",
    "\n",
    "python main.py 3 2\n",
    "\"\"\""
   ]
  },
  {
   "cell_type": "code",
   "execution_count": null,
   "metadata": {
    "collapsed": true
   },
   "outputs": [],
   "source": [
    "\"\"\"\n",
    "Exercise 5 - Python program with multiple modules to sort a list of numbers\n",
    "\n",
    "Write a Python program to sort a list of numbers in ascending order. \n",
    "Your Python program must have a function called sortNumbers that is placed in a \n",
    "separate module called sorthelper.py. This function sortNumbers accepts a list of numbers. \n",
    "Your main program, which is also a standalone Python program main.py must \n",
    "import sorthelper.py and use this module to sort the numbers.\n",
    "\n",
    "The numbers to be sorted must be passed via the command line.\n",
    "\n",
    "Here is an example of how your program would be invoked assuming the numbers to be sorted \n",
    "are 5 4 3 and 8\n",
    "\n",
    "python main.py 5 4 3 8\n",
    "\"\"\""
   ]
  }
 ],
 "metadata": {
  "kernelspec": {
   "display_name": "Python 2",
   "language": "python",
   "name": "python2"
  },
  "language_info": {
   "codemirror_mode": {
    "name": "ipython",
    "version": 2
   },
   "file_extension": ".py",
   "mimetype": "text/x-python",
   "name": "python",
   "nbconvert_exporter": "python",
   "pygments_lexer": "ipython2",
   "version": "2.7.13"
  }
 },
 "nbformat": 4,
 "nbformat_minor": 2
}
