{
 "cells": [
  {
   "cell_type": "code",
   "execution_count": 16,
   "metadata": {},
   "outputs": [
    {
     "name": "stdout",
     "output_type": "stream",
     "text": [
      "Enter a number between 1-1000: 2\n",
      "Found a number less than 100\n"
     ]
    }
   ],
   "source": [
    "\"\"\"\n",
    "Exercise 1 - if statement\n",
    "Write a python program to accept a number from the user. \n",
    "Use the if statement to check to see if the number is greater than 100. \n",
    "If the number is greater than 100, print the message \"Found a number greater than 100\"\n",
    "\"\"\"\n",
    "userNumber = int(raw_input(\"Enter a number between 1-1000: \"))\n",
    "if userNumber > 100:\n",
    "    print \"Found a number greater than 100\"\n",
    "else:\n",
    "    print \"Found a number less than 100\""
   ]
  },
  {
   "cell_type": "code",
   "execution_count": 26,
   "metadata": {},
   "outputs": [
    {
     "name": "stdout",
     "output_type": "stream",
     "text": [
      "Enter your name: joe\n",
      "User Joe was entered\n"
     ]
    }
   ],
   "source": [
    "\"\"\"\n",
    "Exercise 2 - if...else statement\n",
    "Write a python program to accept the name of a user. Use the if statement to check to see if the name is \"Joe\". \n",
    "If the name is \"Joe\", print the message \"User Joe was entered\", \n",
    "otherwise if the name is not \"Joe\", print a message saying that \"User Joe was not entered\"\n",
    "\"\"\"\n",
    "\n",
    "userName = raw_input(\"Enter your name: \")\n",
    "if userName == \"Joe\" or userName == \"joe\":\n",
    "    print \"User Joe was entered\"\n",
    "else:\n",
    "    print \"User Joe was not entered\""
   ]
  },
  {
   "cell_type": "code",
   "execution_count": 28,
   "metadata": {},
   "outputs": [
    {
     "name": "stdout",
     "output_type": "stream",
     "text": [
      "Please enter your salary w/ no commas: 102000\n",
      "User salary is greater than or equal to 100,000\n"
     ]
    }
   ],
   "source": [
    "\"\"\"\n",
    "Exercise 3 - if..elif...else statement\n",
    "Write a python program to accept the salary of the user.\n",
    "If the salary is less than 70,000, then print the message \"User salary is less than 70000\", \n",
    "otherwise if the salary is less than 100,000, print the message \n",
    "\"User salary is less than 100,000, otherwise, print the message \"User salary is greater than or equal to 100,000\"\n",
    "\"\"\"\n",
    "userSalary = int(raw_input(\"Please enter your salary w/ no commas: \"))\n",
    "if userSalary < 70000:\n",
    "    print \"User salary is less than 70000\"\n",
    "elif userSalary < 100000:\n",
    "    print \"User salary is less than 100,000\"\n",
    "else:\n",
    "    print \"User salary is greater than or equal to 100,000\""
   ]
  },
  {
   "cell_type": "code",
   "execution_count": 40,
   "metadata": {},
   "outputs": [
    {
     "name": "stdout",
     "output_type": "stream",
     "text": [
      "Enter a number between 1-10: 11\n",
      "Enter a number between 1-10 only\n"
     ]
    }
   ],
   "source": [
    "\"\"\"\n",
    "Exercise 4 - for loop\n",
    "Write a program to get a number from the user. \n",
    "Find the sum of all numbers from 1 to the number that the user entered.\n",
    "Print the result\n",
    "\"\"\"\n",
    "\n",
    "userNumber = int(raw_input(\"Enter a number between 1-10: \"))\n",
    "sum = 0\n",
    "if userNumber <= 10:\n",
    "    for i in range(userNumber + 1):\n",
    "        sum += i\n",
    "    print sum\n",
    "else:\n",
    "    print \"Enter a number between 1-10 only\""
   ]
  },
  {
   "cell_type": "code",
   "execution_count": 71,
   "metadata": {},
   "outputs": [
    {
     "name": "stdout",
     "output_type": "stream",
     "text": [
      "Enter a number between 1-10: 2\n",
      "No luck, try again!\n",
      "Enter a number between 1-10: 3\n",
      "No luck, try again!\n",
      "Enter a number between 1-10: 7\n",
      " Yipee! You guessed the right number.\n"
     ]
    }
   ],
   "source": [
    "\"\"\"\n",
    "Exercise 5 - while loop\n",
    "Guessing a number.\n",
    "\n",
    "Initialize a variable called myNumber to any arbitrary value. \n",
    "For example, maybe you thought of a number 9\n",
    "Use the while loop to ask the user to enter a number. \n",
    "Check to see if the number entered by the user matches the number myNumber that you thought of. \n",
    "If there is a match, break from the while loop and print \"Yippee! User guessed the right number\". \n",
    "If there is no match allow the while loop to continue to ask the user for a number until a match is found\n",
    "\"\"\"\n",
    "\n",
    "myNumber = 7\n",
    "correct = False\n",
    "userNumber = int(raw_input(\"Enter a number between 1-10: \"))\n",
    "while not correct:\n",
    "    if userNumber == myNumber:\n",
    "        print \" Yipee! You guessed the right number.\"\n",
    "        correct = True\n",
    "        break\n",
    "    else:\n",
    "        print \"No luck, try again!\"\n",
    "        userNumber = int(raw_input(\"Enter a number between 1-10: \"))"
   ]
  },
  {
   "cell_type": "code",
   "execution_count": null,
   "metadata": {
    "collapsed": true
   },
   "outputs": [],
   "source": []
  },
  {
   "cell_type": "code",
   "execution_count": null,
   "metadata": {
    "collapsed": true
   },
   "outputs": [],
   "source": []
  }
 ],
 "metadata": {
  "kernelspec": {
   "display_name": "Python 2",
   "language": "python",
   "name": "python2"
  },
  "language_info": {
   "codemirror_mode": {
    "name": "ipython",
    "version": 2
   },
   "file_extension": ".py",
   "mimetype": "text/x-python",
   "name": "python",
   "nbconvert_exporter": "python",
   "pygments_lexer": "ipython2",
   "version": "2.7.13"
  }
 },
 "nbformat": 4,
 "nbformat_minor": 2
}
