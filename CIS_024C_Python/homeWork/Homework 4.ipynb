{
 "cells": [
  {
   "cell_type": "code",
   "execution_count": null,
   "metadata": {
    "collapsed": true
   },
   "outputs": [],
   "source": [
    "\"\"\"\n",
    "Exercise 1 - Testing your knowledge of lists, tuples and dictionaries\n",
    "Answer the below questions\n",
    "\n",
    "What is the main difference between a list and a tuple?\n",
    "The main difference between a list and a tuple is a list is mutable \n",
    "while a tuple is immutable.\n",
    "\n",
    "How does a dictionary object differ from a list?\n",
    "The main difference for a dictionary is that each elemnt in a dictionary is a name-value \n",
    "pair or key-value pair.\n",
    "\n",
    "\"\"\"\n"
   ]
  },
  {
   "cell_type": "code",
   "execution_count": 14,
   "metadata": {},
   "outputs": [
    {
     "name": "stdout",
     "output_type": "stream",
     "text": [
      "[0, 0, 0, 0, 0, 0, 0, 0, 0, 0]\n",
      "(1, 2, 3, 4, 5, 6, 7, 8, 9, 10)\n",
      "{1: 'hi', 2: 'my', 3: 'name', 4: 'is', 5: 'Ryan', 6: 'Munguia', 7: 'Nice', 8: 'to', 9: 'meet', 10: 'you'}\n"
     ]
    }
   ],
   "source": [
    "\"\"\"\n",
    "Exercise 2 - Initializing a list, tuple and dictionary\n",
    "Create a list object with a set of any 10 numbers. Print the result\n",
    "Create a tuple object with a set of 10 numbers. Print the result\n",
    "Create a dictionary object with a set of 10 numbers. Print the result\n",
    "\"\"\"\n",
    "\n",
    "x = [0] * 10\n",
    "print x\n",
    "\n",
    "y = (1,2,3,4,5,6,7,8,9,10)\n",
    "print y\n",
    "\n",
    "z = {1:\"hi\", 2:\"my\",3:\"name\",4:\"is\",5:\"Ryan\",6:\"Munguia\", 7:\"Nice\",8:\"to\",9:\"meet\",10:\"you\"}\n",
    "print z"
   ]
  },
  {
   "cell_type": "code",
   "execution_count": 18,
   "metadata": {},
   "outputs": [
    {
     "name": "stdout",
     "output_type": "stream",
     "text": [
      "1\n",
      "3\n",
      "5\n",
      "7\n",
      "9\n"
     ]
    }
   ],
   "source": [
    "\"\"\"\n",
    "Exercise 3 - Displaying values in a list object\n",
    "Create a list object with 10 arbitrary numbers. Use a for loop to display every other element.\n",
    "Example:\n",
    "If your list has [2,3,4,5,6], then you will need to display [2,4,6]\n",
    "Hint: Make use the last step parameter in the range function to do this\n",
    "\"\"\"\n",
    "\n",
    "list = [1,2,3,4,5,6,7,8,9,10]\n",
    "for i in list[::2]:\n",
    "    print i"
   ]
  },
  {
   "cell_type": "code",
   "execution_count": 40,
   "metadata": {},
   "outputs": [
    {
     "name": "stdout",
     "output_type": "stream",
     "text": [
      "Please enter a list of names: [\"ryan\",\"charlie\",\"kelsey\"]\n",
      "['charlie', 'kelsey', 'ryan']\n"
     ]
    }
   ],
   "source": [
    "import string\n",
    "\n",
    "\"\"\"\n",
    "Exercise 4 - Sorting a list of strings\n",
    "Ask the user to enter a list of names. Sort the names in ascending order.\n",
    "Hint: Use the same logic that we used in class to sort numbers. \n",
    "When used with strings, Python will sort the strings in alphabetical order\n",
    "\"\"\"\n",
    "list_names = input(\"Please enter a list of names: \")\n",
    "list_names.sort()\n",
    "print list_names\n",
    " \n",
    " \n"
   ]
  },
  {
   "cell_type": "code",
   "execution_count": 28,
   "metadata": {},
   "outputs": [
    {
     "name": "stdout",
     "output_type": "stream",
     "text": [
      "['A', 'C', 'b']\n"
     ]
    }
   ],
   "source": [
    "mylist = [\"b\", \"C\", \"A\"]\n",
    "mylist.sort()\n",
    "print mylist"
   ]
  },
  {
   "cell_type": "code",
   "execution_count": 44,
   "metadata": {},
   "outputs": [
    {
     "name": "stdout",
     "output_type": "stream",
     "text": [
      "Please enter a number 1-4: 3\n",
      "Joe\n"
     ]
    }
   ],
   "source": [
    "\"\"\"\n",
    "Exercise 5 - Ask the user to enter a key between 1 and 4.\n",
    "Display the corresponding value in the dictionary\n",
    "\"\"\"\n",
    "\n",
    "dict = {1:\"Harry\",2:\"Sally\",3:\"Joe\",4:\"Matthew\"}\n",
    "dict_number = input(\"Please enter a number 1-4: \")\n",
    "print dict[dict_number]\n"
   ]
  },
  {
   "cell_type": "code",
   "execution_count": 3,
   "metadata": {},
   "outputs": [
    {
     "name": "stdout",
     "output_type": "stream",
     "text": [
      "testing testing 123\n"
     ]
    }
   ],
   "source": [
    "print('testing testing 123')"
   ]
  },
  {
   "cell_type": "code",
   "execution_count": null,
   "metadata": {
    "collapsed": true
   },
   "outputs": [],
   "source": []
  }
 ],
 "metadata": {
  "kernelspec": {
   "display_name": "Python 2",
   "language": "python",
   "name": "python2"
  },
  "language_info": {
   "codemirror_mode": {
    "name": "ipython",
    "version": 2
   },
   "file_extension": ".py",
   "mimetype": "text/x-python",
   "name": "python",
   "nbconvert_exporter": "python",
   "pygments_lexer": "ipython2",
   "version": "2.7.13"
  }
 },
 "nbformat": 4,
 "nbformat_minor": 2
}
