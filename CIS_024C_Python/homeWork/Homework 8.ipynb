{
 "cells": [
  {
   "cell_type": "code",
   "execution_count": 8,
   "metadata": {},
   "outputs": [
    {
     "name": "stdout",
     "output_type": "stream",
     "text": [
      "1. The benefits of using external libraries are numerous. Howerver some of the benefits\n",
      " include: \n",
      " -reusability of yours or someone else's code and \n",
      " -time saved from having to rewrite code.\n",
      " Typically, if you quit from the Python interpreter and enter it again, the definitions you\n",
      " have made (functions and variables) are lost.\n",
      " This is where importing modules, or libraries can come in handy. \n"
     ]
    }
   ],
   "source": [
    "\"\"\"\n",
    "Exercise 1 - Testing your knowledge of External Libraries\n",
    "Answer the below questions:\n",
    "1. Name two benefits of using external libraries.\n",
    "2. What are the different ways of including an external library \n",
    "in a Python program?\n",
    "\"\"\"\n",
    "\n",
    "print \"1. The benefits of using external libraries are numerous. Howerver some of the benefits\\n include: \"\n",
    "print \" -reusability of yours or someone else's code and \\n -time saved from having to rewrite code.\\n Typically, if you quit from the Python interpreter and enter it again, the definitions you\\n have made (functions and variables) are lost.\\n This is where importing modules, or libraries can come in handy. \"\n"
   ]
  },
  {
   "cell_type": "code",
   "execution_count": 11,
   "metadata": {},
   "outputs": [
    {
     "name": "stdout",
     "output_type": "stream",
     "text": [
      "Please a number between 1-10: 9\n",
      "The log of your number is: 2.19722457734\n",
      "The factorial of your number is: 362880\n",
      "The square root of your number is: 3.0\n",
      "The sine of your number is: 0.412118485242\n"
     ]
    }
   ],
   "source": [
    "\"\"\"\n",
    "Exercise 2 - Using the math library\n",
    "Import the math library in your program and do the following:\n",
    "\n",
    "1. Request the user to enter a number between 1 and 10\n",
    "2. Compute the log (math.log) of the number\n",
    "3. Compute teh factorial (math.factorial) of the number\n",
    "4. Compute the square root (math.sqrt) of the number\n",
    "5. Compute the sine (math.sin) of the number\n",
    "\"\"\"\n",
    "import math\n",
    "\n",
    "#Problem 1\n",
    "userNum = int(raw_input(\"Please a number between 1-10: \"))\n",
    "\n",
    "#problem 2\n",
    "log = math.log(userNum)\n",
    "print \"The log of your number is:\",log\n",
    "\n",
    "#problem 3\n",
    "factorial = math.factorial(userNum)\n",
    "print \"The factorial of your number is:\",factorial\n",
    "\n",
    "#problem 4\n",
    "sqRoot = math.sqrt(userNum)\n",
    "print \"The square root of your number is:\",sqRoot\n",
    "\n",
    "#problem 5\n",
    "sine = math.sin(userNum)\n",
    "print \"The sine of your number is:\",sine"
   ]
  },
  {
   "cell_type": "code",
   "execution_count": 25,
   "metadata": {},
   "outputs": [
    {
     "name": "stdout",
     "output_type": "stream",
     "text": [
      "Sameple 1:  [32, 25, 26, 60, 61, 92, 98, 49, 68, 75]\n",
      "Sameple 2:  [91, 39, 73, 0, 89, 45, 49, 15, 20, 7]\n",
      "Sample 1 in ascending order:  [25, 26, 32, 49, 60, 61, 68, 75, 92, 98]\n"
     ]
    }
   ],
   "source": [
    "\"\"\"\n",
    "Exercise 3 - Random numbers\n",
    "Generate a list of 10 random numbers between 1 and 100. \n",
    "Use random.sample function. \n",
    "\n",
    "Write a program to then sort the \n",
    "list of numbers in ascending order.\n",
    "\"\"\"\n",
    "import random\n",
    "\n",
    "sampleOne = random.sample(range(100),10)\n",
    "sampleTwo = random.sample(range(100),10)\n",
    "\n",
    "print \"Sameple 1: \",sampleOne\n",
    "print \"Sameple 2: \",sampleTwo\n",
    "\n",
    "print \"Sample 1 in ascending order: \", sorted(sampleOne)\n"
   ]
  },
  {
   "cell_type": "code",
   "execution_count": 66,
   "metadata": {},
   "outputs": [
    {
     "name": "stdout",
     "output_type": "stream",
     "text": [
      "1. Using the add function: add(3,2) =  5\n",
      "2. Using the diff function: diff(3,2) =  1\n",
      "3. Using the product function: product(2,3) =  6\n",
      "4. Using the greatest function: greatest(2,3) =  3\n"
     ]
    }
   ],
   "source": [
    "\"\"\"\n",
    "Exercise 4 - Creating your own library\n",
    "Create a python module helperfunctions.py with the following functions:\n",
    "\n",
    "1. add - returns the sum of two numbers\n",
    "2. diff - returns the difference between two numbers\n",
    "3. product - returns the product of two numbers\n",
    "4. greatest - returns the greatest of two numbers.\n",
    "\n",
    "Import this module in your python program and use the functions you \n",
    "created on any two numbers and print the result.\n",
    "\n",
    "Note: Upload the helperfunctions.py module to your github folder \n",
    "along with the notebook file. You can also upload helperfunctions.py to \n",
    "Canvas if you are having trouble copying it to Github\n",
    "\"\"\"\n",
    "\n",
    "import helperFunctions\n",
    "\n",
    "\n",
    "print \"1. Using the add function: add(3,2) = \",add(2,3)\n",
    "\n",
    "print \"2. Using the diff function: diff(3,2) = \",diff(3,2)\n",
    "\n",
    "print \"3. Using the product function: product(2,3) = \",product(3,2)\n",
    "\n",
    "print \"4. Using the greatest function: greatest(2,3) = \",greatest(3,2)"
   ]
  },
  {
   "cell_type": "code",
   "execution_count": 21,
   "metadata": {},
   "outputs": [
    {
     "name": "stdout",
     "output_type": "stream",
     "text": [
      "The uncompressed lenth is: 173595\n",
      "The compressed length is: 61359\n",
      "﻿Project Gutenberg’s Alice’s Adventures in Wonderland, by Lewis Carroll\r\n",
      "\r\n",
      "This eBook is for the use of anyone anywhere at no cost and with\r\n",
      "almost no restrictions whatsoever.  You may copy it, give it away or\r\n",
      "re-use it under the terms of the Project Gutenberg License included\r\n",
      "with this eBook or online at www.gutenberg.org\r\n",
      "\r\n",
      "\r\n",
      "Title: Alice’s Adventures in Wonderland\r\n",
      "\r\n",
      "Author: Lewis Carroll\r\n",
      "\r\n",
      "Posting Date: June 25, 2008 [EBook #11]\r\n",
      "Release Date: March, 1994\r\n",
      "Last Updated: October 6, 2016\r\n",
      "\r\n",
      "Language: English\r\n",
      "\r\n",
      "Character set encoding: UTF-8\r\n",
      "\r\n",
      "*** START OF THIS PROJECT GUTENBERG EBOOK ALICE’S ADVENTURES IN WONDERLAND ***\r\n",
      "\r\n",
      "\r\n",
      "\r\n",
      "\r\n",
      "\r\n",
      "\r\n",
      "\r\n",
      "\r\n",
      "\r\n",
      "\r\n",
      "ALICE’S ADVENTURES IN WONDERLAND\r\n"
     ]
    }
   ],
   "source": [
    "\"\"\"\n",
    "Exercise 5 - Compressing a file using the zlib library\n",
    "Download the story Alice in Wonderland from the link below:\n",
    "http://www.gutenberg.org/files/11/11.txt and save it as the \n",
    "file alice.txt\n",
    "\n",
    "Write a python program to open this file in your program. \n",
    "Use the zlib library to compress the contents of the file and \n",
    "write it back to another file call alice_compressed.txt\n",
    "\n",
    "Now, open the file alice_compressed.txt, decompress using the zlib \n",
    "library and display the results on the screen.\n",
    "\n",
    "Refer to Week 8 lecture slides and classwork for information on\n",
    "how to use zlib.\n",
    "\"\"\"\n",
    "import zlib\n",
    "\n",
    "## open and read original file\n",
    "alice_story = open(\"alice.txt\").read()\n",
    "print \"The uncompressed lenth is:\",len(alice_story)\n",
    "\n",
    "\n",
    "## compress the contents of the file\n",
    "compressed_contents = zlib.compress(alice_story)\n",
    "print \"The compressed length is:\",len(compressed_contents)\n",
    "\n",
    "## write the compressed contents in other text file\n",
    "alice_story_com = open(\"alice_compressed.txt\", 'w')\n",
    "alice_story_com.write(compressed_contents)\n",
    "alice_story_com.close()\n",
    "\n",
    "## open compressed file and decompress it\n",
    "alice_story_com = open(\"alice_compressed.txt\").read()\n",
    "decompressed_contents = zlib.decompress(alice_story_com)\n",
    "\n",
    "## display results on the screen\n",
    "print decompressed_contents[:700] # only showing 700 char below\n",
    "\n",
    "\n",
    "### END CODE"
   ]
  },
  {
   "cell_type": "code",
   "execution_count": null,
   "metadata": {
    "collapsed": true
   },
   "outputs": [],
   "source": []
  }
 ],
 "metadata": {
  "kernelspec": {
   "display_name": "Python 2",
   "language": "python",
   "name": "python2"
  },
  "language_info": {
   "codemirror_mode": {
    "name": "ipython",
    "version": 2
   },
   "file_extension": ".py",
   "mimetype": "text/x-python",
   "name": "python",
   "nbconvert_exporter": "python",
   "pygments_lexer": "ipython2",
   "version": "2.7.13"
  }
 },
 "nbformat": 4,
 "nbformat_minor": 2
}
